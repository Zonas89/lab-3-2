{
  "nbformat": 4,
  "nbformat_minor": 0,
  "metadata": {
    "colab": {
      "name": "Mini_Project3.ipynb",
      "provenance": [],
      "collapsed_sections": [],
      "authorship_tag": "ABX9TyNs9zGVp+BvcGl/nP/flYpi",
      "include_colab_link": true
    },
    "kernelspec": {
      "name": "python3",
      "display_name": "Python 3"
    }
  },
  "cells": [
    {
      "cell_type": "markdown",
      "metadata": {
        "id": "view-in-github",
        "colab_type": "text"
      },
      "source": [
        "<a href=\"https://colab.research.google.com/github/Zonas89/lab-3-2/blob/master/Mini_Project3.ipynb\" target=\"_parent\"><img src=\"https://colab.research.google.com/assets/colab-badge.svg\" alt=\"Open In Colab\"/></a>"
      ]
    },
    {
      "cell_type": "code",
      "metadata": {
        "colab": {
          "base_uri": "https://localhost:8080/"
        },
        "id": "UJZAnTw-w-qL",
        "outputId": "5178907d-8c86-4c90-884a-d19f8991a1de"
      },
      "source": [
        "!pip install hl7\n",
        "!pip install fhir.resources"
      ],
      "execution_count": null,
      "outputs": [
        {
          "output_type": "stream",
          "text": [
            "Collecting hl7\n",
            "  Downloading https://files.pythonhosted.org/packages/a3/bd/3bc36dd19b9d423435aaf33fee5c9e758502e67e74b094e48b4c39f98924/hl7-0.4.2-py2.py3-none-any.whl\n",
            "Installing collected packages: hl7\n",
            "Successfully installed hl7-0.4.2\n",
            "Collecting fhir.resources\n",
            "\u001b[?25l  Downloading https://files.pythonhosted.org/packages/73/35/32fce9fffbca7d0a01f5f0dc79566f0cdafe2922ce3ce42c2f3a2770ab00/fhir.resources-6.1.0-py2.py3-none-any.whl (2.3MB)\n",
            "\u001b[K     |████████████████████████████████| 2.3MB 5.6MB/s \n",
            "\u001b[?25hCollecting pydantic[email]>=1.7.2\n",
            "\u001b[?25l  Downloading https://files.pythonhosted.org/packages/2b/a3/0ffdb6c63f45f10d19b8e8b32670b22ed089cafb29732f6bf8ce518821fb/pydantic-1.8.1-cp37-cp37m-manylinux2014_x86_64.whl (10.1MB)\n",
            "\u001b[K     |████████████████████████████████| 10.1MB 21.1MB/s \n",
            "\u001b[?25hRequirement already satisfied: typing-extensions>=3.7.4.3 in /usr/local/lib/python3.7/dist-packages (from pydantic[email]>=1.7.2->fhir.resources) (3.7.4.3)\n",
            "Collecting email-validator>=1.0.3; extra == \"email\"\n",
            "  Downloading https://files.pythonhosted.org/packages/58/f0/39459bb868ddb4e96ee3f8b1386deeceb1bf4e53de8c18a4afdf5801f24c/email_validator-1.1.2-py2.py3-none-any.whl\n",
            "Requirement already satisfied: idna>=2.0.0 in /usr/local/lib/python3.7/dist-packages (from email-validator>=1.0.3; extra == \"email\"->pydantic[email]>=1.7.2->fhir.resources) (2.10)\n",
            "Collecting dnspython>=1.15.0\n",
            "\u001b[?25l  Downloading https://files.pythonhosted.org/packages/f5/2d/ae9e172b4e5e72fa4b3cfc2517f38b602cc9ba31355f9669c502b4e9c458/dnspython-2.1.0-py3-none-any.whl (241kB)\n",
            "\u001b[K     |████████████████████████████████| 245kB 35.0MB/s \n",
            "\u001b[?25hInstalling collected packages: dnspython, email-validator, pydantic, fhir.resources\n",
            "Successfully installed dnspython-2.1.0 email-validator-1.1.2 fhir.resources-6.1.0 pydantic-1.8.1\n"
          ],
          "name": "stdout"
        }
      ]
    },
    {
      "cell_type": "code",
      "metadata": {
        "id": "ACceCu0Eg790"
      },
      "source": [
        "# Make sure you installed package hl7 and fhir.resources\n",
        "import hl7\n",
        "from fhir.resources.patient import Patient\n",
        "from fhir.resources.observation import Observation \n",
        "import json\n",
        "# Message is made based on HL7V2.4\n",
        "message = 'MSH|^~\\&|GHH LAB|ELAB-3|GHH OE|BLDG4|200202150930||ORU^R01|CNTRL-3456|P|2.4\\r'\n",
        "message += 'PID|||555-44-4444||EVERYWOMAN^EVE^E^^^^L|JONES|19620320|F|||153 FERNWOOD DR.^^STATESVILLE^OH^35292||(206)3345232|(206)752-121||||AC555444444||67-A4335^OH^20030520\\r'\n",
        "message += 'OBR|1|845439^GHH OE|1045813^GHH LAB|1554-5^GLUCOSE|||200202150730||||||||555-55-5555^PRIMARY^PATRICIA P^^^^MD^^LEVEL SEVEN HEALTHCARE, INC.|||||||||F||||||444-44-4444^HIPPOCRATES^HOWARD H^^^^MD\\r'\n",
        "message += 'OBX|1|SN|1554-5^GLUCOSE^POST 12H CFST:MCNC:PT:SER/PLAS:QN||^182|mg/dl|70_105|H|||F\\r'\n",
        "\n",
        "h = hl7.parse(message)\n",
        "\n",
        "# Parse Patient\n",
        "PID = h['PID']\n",
        "#Id\n",
        "PatientId = str(PID[0][3])\n",
        "#Name\n",
        "Name = PID[0][5].__str__().split(\"^\")\n",
        "GivenName = Name[1] +\" \"+ Name[2]\n",
        "FamilyName = Name[0]\n",
        "FullName = GivenName+\". \"+FamilyName\n",
        "#BirthDate\n",
        "Birthdate1 = hl7.parse_datetime(h['PID.7'])\n",
        "Birthdate = str(Birthdate1.date())\n",
        "#Gender\n",
        "dictsex = {'F':'Female', 'M':'Male', 'A':'Unknown','O':'Other','N':'Other','U':'Unknown'}\n",
        "Sex =  dictsex[str(PID[0][8])]\n",
        "#Address\n",
        "Address = PID[0][11].__str__().split(\"^\")\n",
        "Address_line = Address[0]\n",
        "Address_city = Address[2]\n",
        "Address_state = Address[3]\n",
        "Address_postalCode = Address[4]\n",
        "#telecom\n",
        "Telecom_home = str(PID[0][13])\n",
        "Telecom_work = str(PID[0][14])\n",
        "#Driver License\n",
        "DL = PID[0][20].__str__().split(\"^\")\n",
        "DL_number =str(DL[0])\n",
        "DL_issue_state = str(DL[1])\n",
        "DL_expiration_datetime = hl7.parse_datetime(DL[2])\n",
        "DL_expiration_date = str(DL_expiration_datetime.date())"
      ],
      "execution_count": null,
      "outputs": []
    },
    {
      "cell_type": "code",
      "metadata": {
        "colab": {
          "base_uri": "https://localhost:8080/"
        },
        "id": "HgvU4BB3_kPQ",
        "outputId": "277569de-cc17-4521-bee1-b339e834fa31"
      },
      "source": [
        "print(DL_expiration_date)"
      ],
      "execution_count": null,
      "outputs": [
        {
          "output_type": "stream",
          "text": [
            "2003-05-20\n"
          ],
          "name": "stdout"
        }
      ]
    },
    {
      "cell_type": "code",
      "metadata": {
        "id": "SYzdPm0yBr8V",
        "colab": {
          "base_uri": "https://localhost:8080/"
        },
        "outputId": "e8738b53-a7bd-4a3c-f7f6-d6d9ebbf590b"
      },
      "source": [
        "# Construct Patient in dict\n",
        "Patient_String = {\n",
        "  \"resourceType\": \"Patient\",\n",
        "  \"id\":PatientId,\n",
        "  \"identifier\":[{\n",
        "      \"use\":\"official\", \n",
        "      \"type\":{\"text\":\"Driver License\"}, \n",
        "      \"value\":DL_number\n",
        "      }],\n",
        "  \"name\":[{\n",
        "      'family':FamilyName, \n",
        "      'given':[GivenName], \n",
        "      'text':FullName\n",
        "      }],\n",
        "  \"gender\":Sex,\n",
        "  \"birthDate\":Birthdate,\n",
        "  \"address\":[{\n",
        "      \"line\":[Address_line],\n",
        "      \"city\":Address_city,\n",
        "      \"state\":Address_state,\n",
        "      \"postalCode\":Address_postalCode\n",
        "      }],\n",
        "  \"telecom\":[{\n",
        "      \"system\":\"phone\",\n",
        "      \"value\":Telecom_home,\n",
        "      \"use\":\"home\"\n",
        "        },\n",
        "      {\"system\":\"phone\",\n",
        "       \"value\":Telecom_work,\n",
        "       \"use\":\"work\"\n",
        "       }],\n",
        "}\n",
        "print(Patient_String)\n",
        "# Construct Patient Object\n",
        "pat = Patient.parse_obj(Patient_String)\n"
      ],
      "execution_count": null,
      "outputs": [
        {
          "output_type": "stream",
          "text": [
            "{'resourceType': 'Patient', 'id': '555-44-4444', 'identifier': [{'use': 'official', 'type': {'text': 'Driver License'}, 'value': '67-A4335'}], 'name': [{'family': 'EVERYWOMAN', 'given': ['EVE E'], 'text': 'EVE E. EVERYWOMAN'}], 'gender': 'Female', 'birthDate': '1962-03-20', 'address': [{'line': ['153 FERNWOOD DR.'], 'city': 'STATESVILLE', 'state': 'OH', 'postalCode': '35292'}], 'telecom': [{'system': 'phone', 'value': '(206)3345232', 'use': 'home'}, {'system': 'phone', 'value': '(206)752-121', 'use': 'work'}]}\n"
          ],
          "name": "stdout"
        }
      ]
    },
    {
      "cell_type": "code",
      "metadata": {
        "colab": {
          "base_uri": "https://localhost:8080/"
        },
        "id": "RQApM47ERBGh",
        "outputId": "c73e2a55-5af6-4a64-9818-f1a419ddce96"
      },
      "source": [
        "#Use fhir.resources to validate the Patient object\n",
        "print(isinstance(pat, Patient))"
      ],
      "execution_count": null,
      "outputs": [
        {
          "output_type": "stream",
          "text": [
            "True\n"
          ],
          "name": "stdout"
        }
      ]
    },
    {
      "cell_type": "code",
      "metadata": {
        "id": "xeyfOSZLq65i"
      },
      "source": [
        "#Parse Observation\n",
        "OBR = h['OBR']\n",
        "OBX = h['OBX']\n",
        "# Observation Id, using OBR-3 + OBX-3 per Observation mapping (OBX-4 is not applicable)\n",
        "ObservationId = OBR[0][3].__str__().split(\"^\")[0]+OBX[0][3].__str__().split(\"^\")[0]\n",
        "ObservationCodeSystem = \"http://loinc.org\"\n",
        "ObservationCodeValue = OBX[0][3].__str__().split(\"^\")[0]\n",
        "ObservationCodeDisplay = OBX[0][3].__str__().split(\"^\")[1] +\" \"+OBX[0][3].__str__().split(\"^\")[2]\n",
        "#Subject\n",
        "S_reference_value = \"Patient/\"+str(PatientId)\n",
        "S_display = GivenName+\". \"+FamilyName\n",
        "#Interpretation\n",
        "I_coding_system = \"http://terminology.hl7.org/ValueSet/v3-ObservationInterpretationNormality\" #V2 url is out of date\n",
        "I_coding_value = str(OBX[0][8])\n",
        "Interpretationdict = {'A':'Abnormal', 'AA':'Critical abnormal', 'HH':'Critical High','LL':'Critical Low','H':'High','HU':'Significantly high','L':'Low','LU':'Significant low','N':'Normal'} # Mapping valueset per CodeSystem URL above\n",
        "I_display = Interpretationdict[str(OBX[0][8])]\n",
        "#IssuedValue\n",
        "Issued_value = hl7.parse_datetime(str(OBR[0][7]))\n",
        "# ValueQuantity \n",
        "VQ_Value = OBX[0][5].__str__().split(\"^\")[1]\n",
        "VQ_units = str(OBX[0][6])\n",
        "VQ_system = \"http://unitsofmeasure.org\"\n",
        "# Performer\n",
        "P_reference_value = \"Practitioner/\"+OBR[0][30].__str__().split(\"^\")[0]\n",
        "P_reference_display = OBR[0][30].__str__().split(\"^\")[2] + \". \" + OBR[0][30].__str__().split(\"^\")[1]\n",
        "# ReferenceRange\n",
        "Low_value = OBX[0][7].__str__().split(\"_\")[0]\n",
        "High_value = OBX[0][7].__str__().split(\"_\")[1]\n",
        "RR_unit = str(OBX[0][6])\n",
        "RR_system = \"http://unitsofmeasure.org\"\n",
        "RR_Code_value = str(OBX[0][6])\n"
      ],
      "execution_count": null,
      "outputs": []
    },
    {
      "cell_type": "code",
      "metadata": {
        "colab": {
          "base_uri": "https://localhost:8080/"
        },
        "id": "DmFkJdLGWBuc",
        "outputId": "7d9b93bf-a904-4c27-85e5-85f528521c17"
      },
      "source": [
        "Observation_String ={\n",
        "    \"resourceType\": \"Observation\",\n",
        "    \"id\":ObservationId,\n",
        "    \"identifier\":[{\"use\":\"official\", \"value\": ObservationId}],\n",
        "    \"status\":\"final\",\n",
        "    \"code\":{\"coding\":[{\n",
        "      \"system\": ObservationCodeSystem,\n",
        "      \"code\": ObservationCodeValue,\n",
        "      \"display\": ObservationCodeDisplay\n",
        "    }]},    \n",
        "    \"subject\":{\n",
        "        \"reference\": S_reference_value,\n",
        "        \"display\": S_display\n",
        "    },\n",
        "    \"interpretation\":[\n",
        "      {\n",
        "          \"coding\":[\n",
        "                    {\n",
        "                        \"system\": I_coding_system,\n",
        "                        \"code\": I_coding_value,\n",
        "                        \"display\": I_display\n",
        "                    }\n",
        "          ]\n",
        "      }                \n",
        "    ],\n",
        "    \"valueQuantity\":{\n",
        "        \"value\": VQ_Value,\n",
        "        \"unit\": VQ_units,\n",
        "        \"system\": VQ_system,\n",
        "        \"code\": VQ_units\n",
        "    },\n",
        "    \"performer\":[\n",
        "            {\n",
        "                \"reference\": P_reference_value,\n",
        "                \"display\": P_reference_display  \n",
        "            } \n",
        "    ],\n",
        "    \"referenceRange\":[\n",
        "                      {\n",
        "                          \"low\":{\n",
        "                              \"value\": Low_value,\n",
        "                              \"unit\": RR_unit,\n",
        "                              \"system\": RR_system,\n",
        "                              \"code\": RR_Code_value\n",
        "                          },\n",
        "                          \"high\":{\n",
        "                              \"value\": High_value,\n",
        "                              \"unit\": RR_unit,\n",
        "                              \"system\": RR_system,\n",
        "                              \"code\": RR_Code_value\n",
        "                          },\n",
        "                      }\n",
        "    ]\n",
        "}\n",
        "obv = Observation.parse_obj(Observation_String)\n",
        "print(Observation_String)"
      ],
      "execution_count": null,
      "outputs": [
        {
          "output_type": "stream",
          "text": [
            "{'resourceType': 'Observation', 'id': '10458131554-5', 'identifier': [{'use': 'official', 'value': '10458131554-5'}], 'status': 'final', 'code': {'coding': [{'system': 'http://loinc.org', 'code': '1554-5', 'display': 'GLUCOSE POST 12H CFST:MCNC:PT:SER/PLAS:QN'}]}, 'subject': {'reference': 'Patient/555-44-4444', 'display': 'EVE E. EVERYWOMAN'}, 'interpretation': [{'coding': [{'system': 'http://terminology.hl7.org/ValueSet/v3-ObservationInterpretationNormality', 'code': 'H', 'display': 'High'}]}], 'valueQuantity': {'value': '182', 'unit': 'mg/dl', 'system': 'http://unitsofmeasure.org', 'code': 'mg/dl'}, 'performer': [{'reference': 'Practitioner/444-44-4444', 'display': 'HOWARD H. HIPPOCRATES'}], 'referenceRange': [{'low': {'value': '70', 'unit': 'mg/dl', 'system': 'http://unitsofmeasure.org', 'code': 'mg/dl'}, 'high': {'value': '105', 'unit': 'mg/dl', 'system': 'http://unitsofmeasure.org', 'code': 'mg/dl'}}]}\n"
          ],
          "name": "stdout"
        }
      ]
    },
    {
      "cell_type": "code",
      "metadata": {
        "colab": {
          "base_uri": "https://localhost:8080/"
        },
        "id": "FBQXrYeColwo",
        "outputId": "2801916d-39a1-4196-d385-b8ea7568d5ea"
      },
      "source": [
        "##Use fhir.resources to validate the Observation object\n",
        "print(isinstance(obv, Observation))"
      ],
      "execution_count": null,
      "outputs": [
        {
          "output_type": "stream",
          "text": [
            "True\n"
          ],
          "name": "stdout"
        }
      ]
    }
  ]
}